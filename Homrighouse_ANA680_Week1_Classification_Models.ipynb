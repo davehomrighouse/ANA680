{
  "nbformat": 4,
  "nbformat_minor": 0,
  "metadata": {
    "colab": {
      "provenance": [],
      "machine_shape": "hm",
      "gpuType": "A100"
    },
    "kernelspec": {
      "name": "python3",
      "display_name": "Python 3"
    },
    "language_info": {
      "name": "python"
    },
    "accelerator": "GPU"
  },
  "cells": [
    {
      "cell_type": "code",
      "source": [
        "# Install any libraries if need be. Comment out after installing\n",
        "# !pip install xgboost"
      ],
      "metadata": {
        "id": "fbrZEXhierFA"
      },
      "execution_count": 1,
      "outputs": []
    },
    {
      "cell_type": "markdown",
      "source": [
        "# ***Load data***"
      ],
      "metadata": {
        "id": "fP19s1ozOydz"
      }
    },
    {
      "cell_type": "code",
      "source": [
        "from sklearn.metrics import accuracy_score, classification_report, confusion_matrix\n",
        "from google.colab import files\n",
        "\n",
        "uploaded = files.upload()"
      ],
      "metadata": {
        "colab": {
          "base_uri": "https://localhost:8080/",
          "height": 73
        },
        "id": "B1-dwDqrXUrI",
        "outputId": "94394508-bd68-40e0-87d0-a789c82ed853"
      },
      "execution_count": 2,
      "outputs": [
        {
          "output_type": "display_data",
          "data": {
            "text/plain": [
              "<IPython.core.display.HTML object>"
            ],
            "text/html": [
              "\n",
              "     <input type=\"file\" id=\"files-6b18a75d-f88f-4b29-907d-78e0f660ef3c\" name=\"files[]\" multiple disabled\n",
              "        style=\"border:none\" />\n",
              "     <output id=\"result-6b18a75d-f88f-4b29-907d-78e0f660ef3c\">\n",
              "      Upload widget is only available when the cell has been executed in the\n",
              "      current browser session. Please rerun this cell to enable.\n",
              "      </output>\n",
              "      <script>// Copyright 2017 Google LLC\n",
              "//\n",
              "// Licensed under the Apache License, Version 2.0 (the \"License\");\n",
              "// you may not use this file except in compliance with the License.\n",
              "// You may obtain a copy of the License at\n",
              "//\n",
              "//      http://www.apache.org/licenses/LICENSE-2.0\n",
              "//\n",
              "// Unless required by applicable law or agreed to in writing, software\n",
              "// distributed under the License is distributed on an \"AS IS\" BASIS,\n",
              "// WITHOUT WARRANTIES OR CONDITIONS OF ANY KIND, either express or implied.\n",
              "// See the License for the specific language governing permissions and\n",
              "// limitations under the License.\n",
              "\n",
              "/**\n",
              " * @fileoverview Helpers for google.colab Python module.\n",
              " */\n",
              "(function(scope) {\n",
              "function span(text, styleAttributes = {}) {\n",
              "  const element = document.createElement('span');\n",
              "  element.textContent = text;\n",
              "  for (const key of Object.keys(styleAttributes)) {\n",
              "    element.style[key] = styleAttributes[key];\n",
              "  }\n",
              "  return element;\n",
              "}\n",
              "\n",
              "// Max number of bytes which will be uploaded at a time.\n",
              "const MAX_PAYLOAD_SIZE = 100 * 1024;\n",
              "\n",
              "function _uploadFiles(inputId, outputId) {\n",
              "  const steps = uploadFilesStep(inputId, outputId);\n",
              "  const outputElement = document.getElementById(outputId);\n",
              "  // Cache steps on the outputElement to make it available for the next call\n",
              "  // to uploadFilesContinue from Python.\n",
              "  outputElement.steps = steps;\n",
              "\n",
              "  return _uploadFilesContinue(outputId);\n",
              "}\n",
              "\n",
              "// This is roughly an async generator (not supported in the browser yet),\n",
              "// where there are multiple asynchronous steps and the Python side is going\n",
              "// to poll for completion of each step.\n",
              "// This uses a Promise to block the python side on completion of each step,\n",
              "// then passes the result of the previous step as the input to the next step.\n",
              "function _uploadFilesContinue(outputId) {\n",
              "  const outputElement = document.getElementById(outputId);\n",
              "  const steps = outputElement.steps;\n",
              "\n",
              "  const next = steps.next(outputElement.lastPromiseValue);\n",
              "  return Promise.resolve(next.value.promise).then((value) => {\n",
              "    // Cache the last promise value to make it available to the next\n",
              "    // step of the generator.\n",
              "    outputElement.lastPromiseValue = value;\n",
              "    return next.value.response;\n",
              "  });\n",
              "}\n",
              "\n",
              "/**\n",
              " * Generator function which is called between each async step of the upload\n",
              " * process.\n",
              " * @param {string} inputId Element ID of the input file picker element.\n",
              " * @param {string} outputId Element ID of the output display.\n",
              " * @return {!Iterable<!Object>} Iterable of next steps.\n",
              " */\n",
              "function* uploadFilesStep(inputId, outputId) {\n",
              "  const inputElement = document.getElementById(inputId);\n",
              "  inputElement.disabled = false;\n",
              "\n",
              "  const outputElement = document.getElementById(outputId);\n",
              "  outputElement.innerHTML = '';\n",
              "\n",
              "  const pickedPromise = new Promise((resolve) => {\n",
              "    inputElement.addEventListener('change', (e) => {\n",
              "      resolve(e.target.files);\n",
              "    });\n",
              "  });\n",
              "\n",
              "  const cancel = document.createElement('button');\n",
              "  inputElement.parentElement.appendChild(cancel);\n",
              "  cancel.textContent = 'Cancel upload';\n",
              "  const cancelPromise = new Promise((resolve) => {\n",
              "    cancel.onclick = () => {\n",
              "      resolve(null);\n",
              "    };\n",
              "  });\n",
              "\n",
              "  // Wait for the user to pick the files.\n",
              "  const files = yield {\n",
              "    promise: Promise.race([pickedPromise, cancelPromise]),\n",
              "    response: {\n",
              "      action: 'starting',\n",
              "    }\n",
              "  };\n",
              "\n",
              "  cancel.remove();\n",
              "\n",
              "  // Disable the input element since further picks are not allowed.\n",
              "  inputElement.disabled = true;\n",
              "\n",
              "  if (!files) {\n",
              "    return {\n",
              "      response: {\n",
              "        action: 'complete',\n",
              "      }\n",
              "    };\n",
              "  }\n",
              "\n",
              "  for (const file of files) {\n",
              "    const li = document.createElement('li');\n",
              "    li.append(span(file.name, {fontWeight: 'bold'}));\n",
              "    li.append(span(\n",
              "        `(${file.type || 'n/a'}) - ${file.size} bytes, ` +\n",
              "        `last modified: ${\n",
              "            file.lastModifiedDate ? file.lastModifiedDate.toLocaleDateString() :\n",
              "                                    'n/a'} - `));\n",
              "    const percent = span('0% done');\n",
              "    li.appendChild(percent);\n",
              "\n",
              "    outputElement.appendChild(li);\n",
              "\n",
              "    const fileDataPromise = new Promise((resolve) => {\n",
              "      const reader = new FileReader();\n",
              "      reader.onload = (e) => {\n",
              "        resolve(e.target.result);\n",
              "      };\n",
              "      reader.readAsArrayBuffer(file);\n",
              "    });\n",
              "    // Wait for the data to be ready.\n",
              "    let fileData = yield {\n",
              "      promise: fileDataPromise,\n",
              "      response: {\n",
              "        action: 'continue',\n",
              "      }\n",
              "    };\n",
              "\n",
              "    // Use a chunked sending to avoid message size limits. See b/62115660.\n",
              "    let position = 0;\n",
              "    do {\n",
              "      const length = Math.min(fileData.byteLength - position, MAX_PAYLOAD_SIZE);\n",
              "      const chunk = new Uint8Array(fileData, position, length);\n",
              "      position += length;\n",
              "\n",
              "      const base64 = btoa(String.fromCharCode.apply(null, chunk));\n",
              "      yield {\n",
              "        response: {\n",
              "          action: 'append',\n",
              "          file: file.name,\n",
              "          data: base64,\n",
              "        },\n",
              "      };\n",
              "\n",
              "      let percentDone = fileData.byteLength === 0 ?\n",
              "          100 :\n",
              "          Math.round((position / fileData.byteLength) * 100);\n",
              "      percent.textContent = `${percentDone}% done`;\n",
              "\n",
              "    } while (position < fileData.byteLength);\n",
              "  }\n",
              "\n",
              "  // All done.\n",
              "  yield {\n",
              "    response: {\n",
              "      action: 'complete',\n",
              "    }\n",
              "  };\n",
              "}\n",
              "\n",
              "scope.google = scope.google || {};\n",
              "scope.google.colab = scope.google.colab || {};\n",
              "scope.google.colab._files = {\n",
              "  _uploadFiles,\n",
              "  _uploadFilesContinue,\n",
              "};\n",
              "})(self);\n",
              "</script> "
            ]
          },
          "metadata": {}
        },
        {
          "output_type": "stream",
          "name": "stdout",
          "text": [
            "Saving breast-cancer-wisconsin.csv to breast-cancer-wisconsin.csv\n"
          ]
        }
      ]
    },
    {
      "cell_type": "code",
      "source": [
        "import pandas as pd\n",
        "import io\n",
        "\n",
        "# Extract filename\n",
        "filename = list(uploaded.keys())[0]\n",
        "\n",
        "#    Load CSV from either:\n",
        "#      - a filename (string path)\n",
        "#      - an uploaded file from Colab's files.upload() dict\n",
        "#      - a Flask file object (from request.files)\n",
        "\n",
        "if isinstance(uploaded[filename], str):\n",
        "  # Assume it's a file path\n",
        "  df = pd.read_csv(uploaded[filename])\n",
        "elif hasattr(uploaded[filename], 'read'):\n",
        "  # Flask's file object or BytesIO\n",
        "  df = pd.read_csv(io.BytesIO(uploaded[filename].read()))\n",
        "elif isinstance(uploaded[filename], bytes):\n",
        "  # Bytes directly (Colab uploaded dict value)\n",
        "  df = pd.read_csv(io.BytesIO(uploaded[filename]))\n",
        "else:\n",
        "  raise ValueError(\"Unsupported file source type.\")\n"
      ],
      "metadata": {
        "id": "Lp2T9mvHXuX5"
      },
      "execution_count": 25,
      "outputs": []
    },
    {
      "cell_type": "markdown",
      "source": [
        "# ***Change class from 2 and 4 to 0 and 1, as XGBoost requires 0 and 1***"
      ],
      "metadata": {
        "id": "XLCykNudA5LJ"
      }
    },
    {
      "cell_type": "code",
      "source": [
        "df['Class'] = df['Class'].replace({2: 0, 4: 1})"
      ],
      "metadata": {
        "id": "H6tAHAXv72rj"
      },
      "execution_count": 26,
      "outputs": []
    },
    {
      "cell_type": "markdown",
      "source": [
        "# ***Set up x & y, scale x, and split the data for training and testing***"
      ],
      "metadata": {
        "id": "TWwfOR12BSP4"
      }
    },
    {
      "cell_type": "code",
      "source": [
        "from sklearn.preprocessing import StandardScaler\n",
        "from sklearn.model_selection import train_test_split\n",
        "\n",
        "# Use all numeric features to train model\n",
        "x = df.select_dtypes(include='number')\n",
        "x = x.drop('Class', axis=1)\n",
        "y = df['Class']\n",
        "\n",
        "# Scale the data\n",
        "x = StandardScaler().fit_transform(x)\n",
        "\n",
        "# Split the data\n",
        "x_train, x_test, y_train, y_test = train_test_split(x, y, test_size=0.25, random_state=5)"
      ],
      "metadata": {
        "id": "aZ6CjN6N9kiW"
      },
      "execution_count": 27,
      "outputs": []
    },
    {
      "cell_type": "markdown",
      "source": [
        "# ***Create and fit Logistic Regression***"
      ],
      "metadata": {
        "id": "yFwD_M8B2iU0"
      }
    },
    {
      "cell_type": "code",
      "source": [
        "from sklearn.linear_model import LogisticRegression\n",
        "lgr = LogisticRegression()\n",
        "lgr = lgr.fit(x_train, y_train)\n",
        "\n",
        "# Perform initial predictions and evaluate results\n",
        "y_pred = lgr.predict(x_test)\n",
        "print(f\"Confusion Matrix: \\n{confusion_matrix(y_test, y_pred)}\")\n",
        "print(f\"Accuracy: {accuracy_score(y_test, y_pred)}\")\n",
        "print(f\"Classification report:\\n{classification_report(y_test, y_pred)}\")"
      ],
      "metadata": {
        "colab": {
          "base_uri": "https://localhost:8080/"
        },
        "id": "K5f3HuyNf5oh",
        "outputId": "0482f8b3-ad91-452a-aec6-971ac99f62c7"
      },
      "execution_count": 28,
      "outputs": [
        {
          "output_type": "stream",
          "name": "stdout",
          "text": [
            "Confusion Matrix: \n",
            "[[113   0]\n",
            " [  0  62]]\n",
            "Accuracy: 1.0\n",
            "Classification report:\n",
            "              precision    recall  f1-score   support\n",
            "\n",
            "           0       1.00      1.00      1.00       113\n",
            "           1       1.00      1.00      1.00        62\n",
            "\n",
            "    accuracy                           1.00       175\n",
            "   macro avg       1.00      1.00      1.00       175\n",
            "weighted avg       1.00      1.00      1.00       175\n",
            "\n"
          ]
        }
      ]
    },
    {
      "cell_type": "markdown",
      "source": [
        "# ***Create and fit the K-Neighbors Classifier***\n"
      ],
      "metadata": {
        "id": "0OqpwfxDDvzk"
      }
    },
    {
      "cell_type": "code",
      "source": [
        "from sklearn.neighbors import KNeighborsClassifier\n",
        "\n",
        "knc = KNeighborsClassifier(n_neighbors=5)\n",
        "knc = knc.fit(x_train, y_train)\n",
        "\n",
        "# Perform initial predictions and evaluate results\n",
        "y_pred = knc.predict(x_test)\n",
        "print(f\"Confusion Matrix: \\n{confusion_matrix(y_test, y_pred)}\")\n",
        "print(f\"Accuracy: {accuracy_score(y_test, y_pred)}\")\n",
        "print(f\"Classification report:\\n{classification_report(y_test, y_pred)}\")"
      ],
      "metadata": {
        "colab": {
          "base_uri": "https://localhost:8080/"
        },
        "id": "ujtX84H8CQyM",
        "outputId": "a138affd-0951-4de7-8f95-8642e664bc7c"
      },
      "execution_count": 29,
      "outputs": [
        {
          "output_type": "stream",
          "name": "stdout",
          "text": [
            "Confusion Matrix: \n",
            "[[110   3]\n",
            " [  0  62]]\n",
            "Accuracy: 0.9828571428571429\n",
            "Classification report:\n",
            "              precision    recall  f1-score   support\n",
            "\n",
            "           0       1.00      0.97      0.99       113\n",
            "           1       0.95      1.00      0.98        62\n",
            "\n",
            "    accuracy                           0.98       175\n",
            "   macro avg       0.98      0.99      0.98       175\n",
            "weighted avg       0.98      0.98      0.98       175\n",
            "\n"
          ]
        }
      ]
    },
    {
      "cell_type": "markdown",
      "source": [
        "# ***Create and fit SVC with kernal = \"linear\"***"
      ],
      "metadata": {
        "id": "cStMej4Hzkup"
      }
    },
    {
      "cell_type": "code",
      "source": [
        "from sklearn.svm import SVC\n",
        "\n",
        "svc = SVC(kernel = \"linear\")\n",
        "svc = svc.fit(x_train, y_train)\n",
        "\n",
        "# Perform initial predictions and evaluate results\n",
        "y_pred = svc.predict(x_test)\n",
        "print(f\"Confusion Matrix: \\n{confusion_matrix(y_test, y_pred)}\")\n",
        "print(f\"Accuracy: {accuracy_score(y_test, y_pred)}\")\n",
        "print(f\"Classification report:\\n{classification_report(y_test, y_pred)}\")\n"
      ],
      "metadata": {
        "id": "ThcgtmWszNc-",
        "colab": {
          "base_uri": "https://localhost:8080/"
        },
        "outputId": "5a45ace9-6212-47d6-d10f-1bcf9abeea0a"
      },
      "execution_count": 30,
      "outputs": [
        {
          "output_type": "stream",
          "name": "stdout",
          "text": [
            "Confusion Matrix: \n",
            "[[113   0]\n",
            " [  0  62]]\n",
            "Accuracy: 1.0\n",
            "Classification report:\n",
            "              precision    recall  f1-score   support\n",
            "\n",
            "           0       1.00      1.00      1.00       113\n",
            "           1       1.00      1.00      1.00        62\n",
            "\n",
            "    accuracy                           1.00       175\n",
            "   macro avg       1.00      1.00      1.00       175\n",
            "weighted avg       1.00      1.00      1.00       175\n",
            "\n"
          ]
        }
      ]
    },
    {
      "cell_type": "markdown",
      "source": [
        "# ***Create and fit SVC with kernal = \"rbf\"***"
      ],
      "metadata": {
        "id": "XQRrcb5Q0op0"
      }
    },
    {
      "cell_type": "code",
      "source": [
        "from sklearn.svm import SVC\n",
        "from sklearn.model_selection import cross_val_score\n",
        "\n",
        "svc = SVC(kernel = \"rbf\")\n",
        "svc = svc.fit(x_train, y_train)\n",
        "\n",
        "# Perform initial predictions and evaluate results\n",
        "y_pred = svc.predict(x_test)\n",
        "print(f\"Confusion Matrix: \\n{confusion_matrix(y_test, y_pred)}\")\n",
        "print(f\"Accuracy: {accuracy_score(y_test, y_pred)}\")\n",
        "print(f\"Classification report:\\n{classification_report(y_test, y_pred)}\")"
      ],
      "metadata": {
        "colab": {
          "base_uri": "https://localhost:8080/"
        },
        "id": "3IeTcwfI01yb",
        "outputId": "d1291765-385c-4005-aa4c-9739d56be8db"
      },
      "execution_count": 31,
      "outputs": [
        {
          "output_type": "stream",
          "name": "stdout",
          "text": [
            "Confusion Matrix: \n",
            "[[113   0]\n",
            " [  0  62]]\n",
            "Accuracy: 1.0\n",
            "Classification report:\n",
            "              precision    recall  f1-score   support\n",
            "\n",
            "           0       1.00      1.00      1.00       113\n",
            "           1       1.00      1.00      1.00        62\n",
            "\n",
            "    accuracy                           1.00       175\n",
            "   macro avg       1.00      1.00      1.00       175\n",
            "weighted avg       1.00      1.00      1.00       175\n",
            "\n"
          ]
        }
      ]
    },
    {
      "cell_type": "markdown",
      "source": [
        "# ***Create and fit Naive-Bayes, GaussianNB***"
      ],
      "metadata": {
        "id": "KxCFjGda1A3f"
      }
    },
    {
      "cell_type": "code",
      "source": [
        "from sklearn.naive_bayes import GaussianNB\n",
        "\n",
        "# Initialize and train GaussianNB\n",
        "gnb = GaussianNB()\n",
        "gnb.fit(x_train, y_train)\n",
        "\n",
        "# Predict and evaluate on test set\n",
        "y_pred = gnb.predict(x_test)\n",
        "print(f\"Confusion Matrix: \\n{confusion_matrix(y_test, y_pred)}\")\n",
        "print(f\"Accuracy: {accuracy_score(y_test, y_pred)}\")\n",
        "print(f\"Classification report:\\n{classification_report(y_test, y_pred)}\")"
      ],
      "metadata": {
        "colab": {
          "base_uri": "https://localhost:8080/"
        },
        "id": "3gwo5j-41O2t",
        "outputId": "d843c705-ccb7-45a0-8bfd-2d7b7979454b"
      },
      "execution_count": 32,
      "outputs": [
        {
          "output_type": "stream",
          "name": "stdout",
          "text": [
            "Confusion Matrix: \n",
            "[[113   0]\n",
            " [  0  62]]\n",
            "Accuracy: 1.0\n",
            "Classification report:\n",
            "              precision    recall  f1-score   support\n",
            "\n",
            "           0       1.00      1.00      1.00       113\n",
            "           1       1.00      1.00      1.00        62\n",
            "\n",
            "    accuracy                           1.00       175\n",
            "   macro avg       1.00      1.00      1.00       175\n",
            "weighted avg       1.00      1.00      1.00       175\n",
            "\n"
          ]
        }
      ]
    },
    {
      "cell_type": "markdown",
      "source": [
        "# ***Create and fit Decision Trees***"
      ],
      "metadata": {
        "id": "Rblt0P8X2viN"
      }
    },
    {
      "cell_type": "code",
      "source": [
        "from sklearn.tree import DecisionTreeClassifier\n",
        "dtc = DecisionTreeClassifier()\n",
        "dtc.fit(x_train, y_train)\n",
        "\n",
        "# Predict and evaluate on test set\n",
        "y_pred = dtc.predict(x_test)\n",
        "print(f\"Confusion Matrix: \\n{confusion_matrix(y_test, y_pred)}\")\n",
        "print(f\"Accuracy: {accuracy_score(y_test, y_pred)}\")\n",
        "print(f\"Classification report:\\n{classification_report(y_test, y_pred)}\")"
      ],
      "metadata": {
        "colab": {
          "base_uri": "https://localhost:8080/"
        },
        "id": "Pf0_wuF0c5Ad",
        "outputId": "c817c3f1-544f-4d57-8e9a-d5989fb59a80"
      },
      "execution_count": 33,
      "outputs": [
        {
          "output_type": "stream",
          "name": "stdout",
          "text": [
            "Confusion Matrix: \n",
            "[[113   0]\n",
            " [  0  62]]\n",
            "Accuracy: 1.0\n",
            "Classification report:\n",
            "              precision    recall  f1-score   support\n",
            "\n",
            "           0       1.00      1.00      1.00       113\n",
            "           1       1.00      1.00      1.00        62\n",
            "\n",
            "    accuracy                           1.00       175\n",
            "   macro avg       1.00      1.00      1.00       175\n",
            "weighted avg       1.00      1.00      1.00       175\n",
            "\n"
          ]
        }
      ]
    },
    {
      "cell_type": "markdown",
      "source": [
        "# ***Create and fit Random Forest***"
      ],
      "metadata": {
        "id": "332Yczjz20FX"
      }
    },
    {
      "cell_type": "code",
      "source": [
        "from sklearn.ensemble import RandomForestClassifier\n",
        "rfc = RandomForestClassifier()\n",
        "rfc.fit(x_train, y_train)\n",
        "\n",
        "# Predict and evaluate on test set\n",
        "y_pred = rfc.predict(x_test)\n",
        "print(f\"Confusion Matrix: \\n{confusion_matrix(y_test, y_pred)}\")\n",
        "print(f\"Accuracy: {accuracy_score(y_test, y_pred)}\")\n",
        "print(f\"Classification report:\\n{classification_report(y_test, y_pred)}\")"
      ],
      "metadata": {
        "colab": {
          "base_uri": "https://localhost:8080/"
        },
        "id": "ooHtGqjsd26Y",
        "outputId": "fdfa2209-774d-45a0-a085-891e8b05a20e"
      },
      "execution_count": 34,
      "outputs": [
        {
          "output_type": "stream",
          "name": "stdout",
          "text": [
            "Confusion Matrix: \n",
            "[[113   0]\n",
            " [  0  62]]\n",
            "Accuracy: 1.0\n",
            "Classification report:\n",
            "              precision    recall  f1-score   support\n",
            "\n",
            "           0       1.00      1.00      1.00       113\n",
            "           1       1.00      1.00      1.00        62\n",
            "\n",
            "    accuracy                           1.00       175\n",
            "   macro avg       1.00      1.00      1.00       175\n",
            "weighted avg       1.00      1.00      1.00       175\n",
            "\n"
          ]
        }
      ]
    },
    {
      "cell_type": "markdown",
      "source": [
        "# ***Create and fit XGBoost***"
      ],
      "metadata": {
        "id": "D0Tqx1zz2_os"
      }
    },
    {
      "cell_type": "code",
      "source": [
        "from xgboost import XGBClassifier\n",
        "\n",
        "xgbc = XGBClassifier()\n",
        "xgbc.fit(x_train, y_train)\n",
        "\n",
        "# Predict and evaluate on test set\n",
        "y_pred = xgbc.predict(x_test)\n",
        "print(f\"Confusion Matrix: \\n{confusion_matrix(y_test, y_pred)}\")\n",
        "print(f\"Accuracy: {accuracy_score(y_test, y_pred)}\")\n",
        "print(f\"Classification report:\\n{classification_report(y_test, y_pred)}\")"
      ],
      "metadata": {
        "colab": {
          "base_uri": "https://localhost:8080/"
        },
        "id": "bFeTJGP5em7g",
        "outputId": "6ce2517b-6db8-4894-c399-8af77be5f10d"
      },
      "execution_count": 35,
      "outputs": [
        {
          "output_type": "stream",
          "name": "stdout",
          "text": [
            "Confusion Matrix: \n",
            "[[113   0]\n",
            " [  0  62]]\n",
            "Accuracy: 1.0\n",
            "Classification report:\n",
            "              precision    recall  f1-score   support\n",
            "\n",
            "           0       1.00      1.00      1.00       113\n",
            "           1       1.00      1.00      1.00        62\n",
            "\n",
            "    accuracy                           1.00       175\n",
            "   macro avg       1.00      1.00      1.00       175\n",
            "weighted avg       1.00      1.00      1.00       175\n",
            "\n"
          ]
        }
      ]
    }
  ]
}
